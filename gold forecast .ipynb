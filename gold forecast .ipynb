{
 "cells": [
  {
   "cell_type": "code",
   "execution_count": 64,
   "metadata": {},
   "outputs": [],
   "source": [
    "import pandas as pd\n",
    "import numpy as np\n",
    "import matplotlib.pyplot as plt\n",
    "import seaborn as sns\n",
    "%matplotlib inline"
   ]
  },
  {
   "cell_type": "code",
   "execution_count": 65,
   "metadata": {},
   "outputs": [],
   "source": [
    "df = pd.read_csv(r'goldpric.csv')"
   ]
  },
  {
   "cell_type": "code",
   "execution_count": 66,
   "metadata": {},
   "outputs": [
    {
     "data": {
      "text/html": [
       "<div>\n",
       "<style scoped>\n",
       "    .dataframe tbody tr th:only-of-type {\n",
       "        vertical-align: middle;\n",
       "    }\n",
       "\n",
       "    .dataframe tbody tr th {\n",
       "        vertical-align: top;\n",
       "    }\n",
       "\n",
       "    .dataframe thead th {\n",
       "        text-align: right;\n",
       "    }\n",
       "</style>\n",
       "<table border=\"1\" class=\"dataframe\">\n",
       "  <thead>\n",
       "    <tr style=\"text-align: right;\">\n",
       "      <th></th>\n",
       "      <th>Time</th>\n",
       "      <th>Open</th>\n",
       "      <th>High</th>\n",
       "      <th>Low</th>\n",
       "      <th>Last</th>\n",
       "      <th>Change</th>\n",
       "    </tr>\n",
       "  </thead>\n",
       "  <tbody>\n",
       "    <tr>\n",
       "      <th>0</th>\n",
       "      <td>06/26/2020</td>\n",
       "      <td>1763.27</td>\n",
       "      <td>1765.57</td>\n",
       "      <td>1758.25</td>\n",
       "      <td>1762.04</td>\n",
       "      <td>-1.55</td>\n",
       "    </tr>\n",
       "    <tr>\n",
       "      <th>1</th>\n",
       "      <td>06/25/2020</td>\n",
       "      <td>1760.78</td>\n",
       "      <td>1767.74</td>\n",
       "      <td>1756.62</td>\n",
       "      <td>1763.59</td>\n",
       "      <td>2.77</td>\n",
       "    </tr>\n",
       "    <tr>\n",
       "      <th>2</th>\n",
       "      <td>06/24/2020</td>\n",
       "      <td>1766.89</td>\n",
       "      <td>1778.32</td>\n",
       "      <td>1760.82</td>\n",
       "      <td>1760.82</td>\n",
       "      <td>-6.26</td>\n",
       "    </tr>\n",
       "    <tr>\n",
       "      <th>3</th>\n",
       "      <td>06/23/2020</td>\n",
       "      <td>1754.35</td>\n",
       "      <td>1770.19</td>\n",
       "      <td>1747.87</td>\n",
       "      <td>1767.08</td>\n",
       "      <td>12.77</td>\n",
       "    </tr>\n",
       "    <tr>\n",
       "      <th>4</th>\n",
       "      <td>06/22/2020</td>\n",
       "      <td>1742.29</td>\n",
       "      <td>1761.96</td>\n",
       "      <td>1742.29</td>\n",
       "      <td>1754.31</td>\n",
       "      <td>12.06</td>\n",
       "    </tr>\n",
       "    <tr>\n",
       "      <th>...</th>\n",
       "      <td>...</td>\n",
       "      <td>...</td>\n",
       "      <td>...</td>\n",
       "      <td>...</td>\n",
       "      <td>...</td>\n",
       "      <td>...</td>\n",
       "    </tr>\n",
       "    <tr>\n",
       "      <th>256</th>\n",
       "      <td>07/02/2019</td>\n",
       "      <td>1382.70</td>\n",
       "      <td>1420.72</td>\n",
       "      <td>1382.70</td>\n",
       "      <td>1417.96</td>\n",
       "      <td>34.38</td>\n",
       "    </tr>\n",
       "    <tr>\n",
       "      <th>257</th>\n",
       "      <td>07/01/2019</td>\n",
       "      <td>1411.29</td>\n",
       "      <td>1414.40</td>\n",
       "      <td>1382.10</td>\n",
       "      <td>1383.58</td>\n",
       "      <td>-25.76</td>\n",
       "    </tr>\n",
       "    <tr>\n",
       "      <th>258</th>\n",
       "      <td>06/28/2019</td>\n",
       "      <td>1409.29</td>\n",
       "      <td>1422.89</td>\n",
       "      <td>1406.60</td>\n",
       "      <td>1409.34</td>\n",
       "      <td>0.12</td>\n",
       "    </tr>\n",
       "    <tr>\n",
       "      <th>259</th>\n",
       "      <td>06/27/2019</td>\n",
       "      <td>1408.96</td>\n",
       "      <td>1411.00</td>\n",
       "      <td>1400.63</td>\n",
       "      <td>1409.22</td>\n",
       "      <td>0.59</td>\n",
       "    </tr>\n",
       "    <tr>\n",
       "      <th>260</th>\n",
       "      <td>06/26/2019</td>\n",
       "      <td>1422.90</td>\n",
       "      <td>1423.79</td>\n",
       "      <td>1403.17</td>\n",
       "      <td>1408.63</td>\n",
       "      <td>-14.46</td>\n",
       "    </tr>\n",
       "  </tbody>\n",
       "</table>\n",
       "<p>261 rows × 6 columns</p>\n",
       "</div>"
      ],
      "text/plain": [
       "           Time     Open     High      Low     Last  Change\n",
       "0    06/26/2020  1763.27  1765.57  1758.25  1762.04   -1.55\n",
       "1    06/25/2020  1760.78  1767.74  1756.62  1763.59    2.77\n",
       "2    06/24/2020  1766.89  1778.32  1760.82  1760.82   -6.26\n",
       "3    06/23/2020  1754.35  1770.19  1747.87  1767.08   12.77\n",
       "4    06/22/2020  1742.29  1761.96  1742.29  1754.31   12.06\n",
       "..          ...      ...      ...      ...      ...     ...\n",
       "256  07/02/2019  1382.70  1420.72  1382.70  1417.96   34.38\n",
       "257  07/01/2019  1411.29  1414.40  1382.10  1383.58  -25.76\n",
       "258  06/28/2019  1409.29  1422.89  1406.60  1409.34    0.12\n",
       "259  06/27/2019  1408.96  1411.00  1400.63  1409.22    0.59\n",
       "260  06/26/2019  1422.90  1423.79  1403.17  1408.63  -14.46\n",
       "\n",
       "[261 rows x 6 columns]"
      ]
     },
     "execution_count": 66,
     "metadata": {},
     "output_type": "execute_result"
    }
   ],
   "source": [
    "df= df[:-1]\n",
    "df"
   ]
  },
  {
   "cell_type": "code",
   "execution_count": 67,
   "metadata": {},
   "outputs": [
    {
     "name": "stdout",
     "output_type": "stream",
     "text": [
      "<class 'pandas.core.frame.DataFrame'>\n",
      "RangeIndex: 261 entries, 0 to 260\n",
      "Data columns (total 6 columns):\n",
      " #   Column  Non-Null Count  Dtype  \n",
      "---  ------  --------------  -----  \n",
      " 0   Time    261 non-null    object \n",
      " 1   Open    261 non-null    float64\n",
      " 2   High    261 non-null    float64\n",
      " 3   Low     261 non-null    float64\n",
      " 4   Last    261 non-null    float64\n",
      " 5   Change  261 non-null    float64\n",
      "dtypes: float64(5), object(1)\n",
      "memory usage: 12.4+ KB\n"
     ]
    }
   ],
   "source": [
    "df.info()"
   ]
  },
  {
   "cell_type": "code",
   "execution_count": 68,
   "metadata": {},
   "outputs": [],
   "source": [
    "df['check']= df['Last']- df['Open']"
   ]
  },
  {
   "cell_type": "code",
   "execution_count": 69,
   "metadata": {},
   "outputs": [
    {
     "data": {
      "text/html": [
       "<div>\n",
       "<style scoped>\n",
       "    .dataframe tbody tr th:only-of-type {\n",
       "        vertical-align: middle;\n",
       "    }\n",
       "\n",
       "    .dataframe tbody tr th {\n",
       "        vertical-align: top;\n",
       "    }\n",
       "\n",
       "    .dataframe thead th {\n",
       "        text-align: right;\n",
       "    }\n",
       "</style>\n",
       "<table border=\"1\" class=\"dataframe\">\n",
       "  <thead>\n",
       "    <tr style=\"text-align: right;\">\n",
       "      <th></th>\n",
       "      <th>Time</th>\n",
       "      <th>Open</th>\n",
       "      <th>High</th>\n",
       "      <th>Low</th>\n",
       "      <th>Last</th>\n",
       "      <th>check</th>\n",
       "    </tr>\n",
       "  </thead>\n",
       "  <tbody>\n",
       "    <tr>\n",
       "      <th>0</th>\n",
       "      <td>06/26/2020</td>\n",
       "      <td>1763.27</td>\n",
       "      <td>1765.57</td>\n",
       "      <td>1758.25</td>\n",
       "      <td>1762.04</td>\n",
       "      <td>-1.23</td>\n",
       "    </tr>\n",
       "    <tr>\n",
       "      <th>1</th>\n",
       "      <td>06/25/2020</td>\n",
       "      <td>1760.78</td>\n",
       "      <td>1767.74</td>\n",
       "      <td>1756.62</td>\n",
       "      <td>1763.59</td>\n",
       "      <td>2.81</td>\n",
       "    </tr>\n",
       "    <tr>\n",
       "      <th>2</th>\n",
       "      <td>06/24/2020</td>\n",
       "      <td>1766.89</td>\n",
       "      <td>1778.32</td>\n",
       "      <td>1760.82</td>\n",
       "      <td>1760.82</td>\n",
       "      <td>-6.07</td>\n",
       "    </tr>\n",
       "    <tr>\n",
       "      <th>3</th>\n",
       "      <td>06/23/2020</td>\n",
       "      <td>1754.35</td>\n",
       "      <td>1770.19</td>\n",
       "      <td>1747.87</td>\n",
       "      <td>1767.08</td>\n",
       "      <td>12.73</td>\n",
       "    </tr>\n",
       "    <tr>\n",
       "      <th>4</th>\n",
       "      <td>06/22/2020</td>\n",
       "      <td>1742.29</td>\n",
       "      <td>1761.96</td>\n",
       "      <td>1742.29</td>\n",
       "      <td>1754.31</td>\n",
       "      <td>12.02</td>\n",
       "    </tr>\n",
       "    <tr>\n",
       "      <th>...</th>\n",
       "      <td>...</td>\n",
       "      <td>...</td>\n",
       "      <td>...</td>\n",
       "      <td>...</td>\n",
       "      <td>...</td>\n",
       "      <td>...</td>\n",
       "    </tr>\n",
       "    <tr>\n",
       "      <th>256</th>\n",
       "      <td>07/02/2019</td>\n",
       "      <td>1382.70</td>\n",
       "      <td>1420.72</td>\n",
       "      <td>1382.70</td>\n",
       "      <td>1417.96</td>\n",
       "      <td>35.26</td>\n",
       "    </tr>\n",
       "    <tr>\n",
       "      <th>257</th>\n",
       "      <td>07/01/2019</td>\n",
       "      <td>1411.29</td>\n",
       "      <td>1414.40</td>\n",
       "      <td>1382.10</td>\n",
       "      <td>1383.58</td>\n",
       "      <td>-27.71</td>\n",
       "    </tr>\n",
       "    <tr>\n",
       "      <th>258</th>\n",
       "      <td>06/28/2019</td>\n",
       "      <td>1409.29</td>\n",
       "      <td>1422.89</td>\n",
       "      <td>1406.60</td>\n",
       "      <td>1409.34</td>\n",
       "      <td>0.05</td>\n",
       "    </tr>\n",
       "    <tr>\n",
       "      <th>259</th>\n",
       "      <td>06/27/2019</td>\n",
       "      <td>1408.96</td>\n",
       "      <td>1411.00</td>\n",
       "      <td>1400.63</td>\n",
       "      <td>1409.22</td>\n",
       "      <td>0.26</td>\n",
       "    </tr>\n",
       "    <tr>\n",
       "      <th>260</th>\n",
       "      <td>06/26/2019</td>\n",
       "      <td>1422.90</td>\n",
       "      <td>1423.79</td>\n",
       "      <td>1403.17</td>\n",
       "      <td>1408.63</td>\n",
       "      <td>-14.27</td>\n",
       "    </tr>\n",
       "  </tbody>\n",
       "</table>\n",
       "<p>261 rows × 6 columns</p>\n",
       "</div>"
      ],
      "text/plain": [
       "           Time     Open     High      Low     Last  check\n",
       "0    06/26/2020  1763.27  1765.57  1758.25  1762.04  -1.23\n",
       "1    06/25/2020  1760.78  1767.74  1756.62  1763.59   2.81\n",
       "2    06/24/2020  1766.89  1778.32  1760.82  1760.82  -6.07\n",
       "3    06/23/2020  1754.35  1770.19  1747.87  1767.08  12.73\n",
       "4    06/22/2020  1742.29  1761.96  1742.29  1754.31  12.02\n",
       "..          ...      ...      ...      ...      ...    ...\n",
       "256  07/02/2019  1382.70  1420.72  1382.70  1417.96  35.26\n",
       "257  07/01/2019  1411.29  1414.40  1382.10  1383.58 -27.71\n",
       "258  06/28/2019  1409.29  1422.89  1406.60  1409.34   0.05\n",
       "259  06/27/2019  1408.96  1411.00  1400.63  1409.22   0.26\n",
       "260  06/26/2019  1422.90  1423.79  1403.17  1408.63 -14.27\n",
       "\n",
       "[261 rows x 6 columns]"
      ]
     },
     "execution_count": 69,
     "metadata": {},
     "output_type": "execute_result"
    }
   ],
   "source": [
    "df.drop(['Change'], axis =1)"
   ]
  },
  {
   "cell_type": "code",
   "execution_count": 70,
   "metadata": {},
   "outputs": [
    {
     "data": {
      "image/png": "[encoded data removed]",
      "text/plain": [
       "<Figure size 432x288 with 1 Axes>"
      ]
     },
     "metadata": {
      "needs_background": "light"
     },
     "output_type": "display_data"
    }
   ],
   "source": [
    "plt.plot(df['Time'], df['Low'])\n",
    "plt.xticks(rotation = 90)\n",
    "plt.show()"
   ]
  },
  {
   "cell_type": "code",
   "execution_count": 71,
   "metadata": {},
   "outputs": [],
   "source": [
    "from datetime import datetime"
   ]
  },
  {
   "cell_type": "code",
   "execution_count": 72,
   "metadata": {},
   "outputs": [],
   "source": [
    "def cov(val):\n",
    "    date = datetime.strptime('{}'.format(val), '%m/%d/%Y').strftime('%Y-%m-%d')\n",
    "    return date"
   ]
  },
  {
   "cell_type": "code",
   "execution_count": 73,
   "metadata": {},
   "outputs": [],
   "source": [
    "kek = df['Time'].apply(lambda x: cov(x))"
   ]
  },
  {
   "cell_type": "code",
   "execution_count": 74,
   "metadata": {},
   "outputs": [
    {
     "data": {
      "text/html": [
       "<div>\n",
       "<style scoped>\n",
       "    .dataframe tbody tr th:only-of-type {\n",
       "        vertical-align: middle;\n",
       "    }\n",
       "\n",
       "    .dataframe tbody tr th {\n",
       "        vertical-align: top;\n",
       "    }\n",
       "\n",
       "    .dataframe thead th {\n",
       "        text-align: right;\n",
       "    }\n",
       "</style>\n",
       "<table border=\"1\" class=\"dataframe\">\n",
       "  <thead>\n",
       "    <tr style=\"text-align: right;\">\n",
       "      <th></th>\n",
       "      <th>Time</th>\n",
       "      <th>Open</th>\n",
       "      <th>High</th>\n",
       "      <th>Low</th>\n",
       "      <th>Last</th>\n",
       "      <th>Change</th>\n",
       "      <th>check</th>\n",
       "      <th>Date</th>\n",
       "    </tr>\n",
       "  </thead>\n",
       "  <tbody>\n",
       "    <tr>\n",
       "      <th>0</th>\n",
       "      <td>06/26/2020</td>\n",
       "      <td>1763.27</td>\n",
       "      <td>1765.57</td>\n",
       "      <td>1758.25</td>\n",
       "      <td>1762.04</td>\n",
       "      <td>-1.55</td>\n",
       "      <td>-1.23</td>\n",
       "      <td>2020-06-26</td>\n",
       "    </tr>\n",
       "    <tr>\n",
       "      <th>1</th>\n",
       "      <td>06/25/2020</td>\n",
       "      <td>1760.78</td>\n",
       "      <td>1767.74</td>\n",
       "      <td>1756.62</td>\n",
       "      <td>1763.59</td>\n",
       "      <td>2.77</td>\n",
       "      <td>2.81</td>\n",
       "      <td>2020-06-25</td>\n",
       "    </tr>\n",
       "    <tr>\n",
       "      <th>2</th>\n",
       "      <td>06/24/2020</td>\n",
       "      <td>1766.89</td>\n",
       "      <td>1778.32</td>\n",
       "      <td>1760.82</td>\n",
       "      <td>1760.82</td>\n",
       "      <td>-6.26</td>\n",
       "      <td>-6.07</td>\n",
       "      <td>2020-06-24</td>\n",
       "    </tr>\n",
       "    <tr>\n",
       "      <th>3</th>\n",
       "      <td>06/23/2020</td>\n",
       "      <td>1754.35</td>\n",
       "      <td>1770.19</td>\n",
       "      <td>1747.87</td>\n",
       "      <td>1767.08</td>\n",
       "      <td>12.77</td>\n",
       "      <td>12.73</td>\n",
       "      <td>2020-06-23</td>\n",
       "    </tr>\n",
       "    <tr>\n",
       "      <th>4</th>\n",
       "      <td>06/22/2020</td>\n",
       "      <td>1742.29</td>\n",
       "      <td>1761.96</td>\n",
       "      <td>1742.29</td>\n",
       "      <td>1754.31</td>\n",
       "      <td>12.06</td>\n",
       "      <td>12.02</td>\n",
       "      <td>2020-06-22</td>\n",
       "    </tr>\n",
       "    <tr>\n",
       "      <th>...</th>\n",
       "      <td>...</td>\n",
       "      <td>...</td>\n",
       "      <td>...</td>\n",
       "      <td>...</td>\n",
       "      <td>...</td>\n",
       "      <td>...</td>\n",
       "      <td>...</td>\n",
       "      <td>...</td>\n",
       "    </tr>\n",
       "    <tr>\n",
       "      <th>256</th>\n",
       "      <td>07/02/2019</td>\n",
       "      <td>1382.70</td>\n",
       "      <td>1420.72</td>\n",
       "      <td>1382.70</td>\n",
       "      <td>1417.96</td>\n",
       "      <td>34.38</td>\n",
       "      <td>35.26</td>\n",
       "      <td>2019-07-02</td>\n",
       "    </tr>\n",
       "    <tr>\n",
       "      <th>257</th>\n",
       "      <td>07/01/2019</td>\n",
       "      <td>1411.29</td>\n",
       "      <td>1414.40</td>\n",
       "      <td>1382.10</td>\n",
       "      <td>1383.58</td>\n",
       "      <td>-25.76</td>\n",
       "      <td>-27.71</td>\n",
       "      <td>2019-07-01</td>\n",
       "    </tr>\n",
       "    <tr>\n",
       "      <th>258</th>\n",
       "      <td>06/28/2019</td>\n",
       "      <td>1409.29</td>\n",
       "      <td>1422.89</td>\n",
       "      <td>1406.60</td>\n",
       "      <td>1409.34</td>\n",
       "      <td>0.12</td>\n",
       "      <td>0.05</td>\n",
       "      <td>2019-06-28</td>\n",
       "    </tr>\n",
       "    <tr>\n",
       "      <th>259</th>\n",
       "      <td>06/27/2019</td>\n",
       "      <td>1408.96</td>\n",
       "      <td>1411.00</td>\n",
       "      <td>1400.63</td>\n",
       "      <td>1409.22</td>\n",
       "      <td>0.59</td>\n",
       "      <td>0.26</td>\n",
       "      <td>2019-06-27</td>\n",
       "    </tr>\n",
       "    <tr>\n",
       "      <th>260</th>\n",
       "      <td>06/26/2019</td>\n",
       "      <td>1422.90</td>\n",
       "      <td>1423.79</td>\n",
       "      <td>1403.17</td>\n",
       "      <td>1408.63</td>\n",
       "      <td>-14.46</td>\n",
       "      <td>-14.27</td>\n",
       "      <td>2019-06-26</td>\n",
       "    </tr>\n",
       "  </tbody>\n",
       "</table>\n",
       "<p>261 rows × 8 columns</p>\n",
       "</div>"
      ],
      "text/plain": [
       "           Time     Open     High      Low     Last  Change  check        Date\n",
       "0    06/26/2020  1763.27  1765.57  1758.25  1762.04   -1.55  -1.23  2020-06-26\n",
       "1    06/25/2020  1760.78  1767.74  1756.62  1763.59    2.77   2.81  2020-06-25\n",
       "2    06/24/2020  1766.89  1778.32  1760.82  1760.82   -6.26  -6.07  2020-06-24\n",
       "3    06/23/2020  1754.35  1770.19  1747.87  1767.08   12.77  12.73  2020-06-23\n",
       "4    06/22/2020  1742.29  1761.96  1742.29  1754.31   12.06  12.02  2020-06-22\n",
       "..          ...      ...      ...      ...      ...     ...    ...         ...\n",
       "256  07/02/2019  1382.70  1420.72  1382.70  1417.96   34.38  35.26  2019-07-02\n",
       "257  07/01/2019  1411.29  1414.40  1382.10  1383.58  -25.76 -27.71  2019-07-01\n",
       "258  06/28/2019  1409.29  1422.89  1406.60  1409.34    0.12   0.05  2019-06-28\n",
       "259  06/27/2019  1408.96  1411.00  1400.63  1409.22    0.59   0.26  2019-06-27\n",
       "260  06/26/2019  1422.90  1423.79  1403.17  1408.63  -14.46 -14.27  2019-06-26\n",
       "\n",
       "[261 rows x 8 columns]"
      ]
     },
     "execution_count": 74,
     "metadata": {},
     "output_type": "execute_result"
    }
   ],
   "source": [
    "kek = kek.tolist()\n",
    "df['Date']= kek\n",
    "df"
   ]
  },
  {
   "cell_type": "code",
   "execution_count": 75,
   "metadata": {},
   "outputs": [],
   "source": [
    "array = df.values"
   ]
  },
  {
   "cell_type": "code",
   "execution_count": 76,
   "metadata": {},
   "outputs": [],
   "source": [
    "col = df.columns"
   ]
  },
  {
   "cell_type": "code",
   "execution_count": 77,
   "metadata": {},
   "outputs": [],
   "source": [
    "new = []\n",
    "for i in range(len(array)):\n",
    "    new.append(array[-i])\n",
    "new.remove(new[0])\n",
    "new.append(array[0]) "
   ]
  },
  {
   "cell_type": "code",
   "execution_count": 78,
   "metadata": {},
   "outputs": [
    {
     "data": {
      "text/plain": [
       "(261, 261)"
      ]
     },
     "execution_count": 78,
     "metadata": {},
     "output_type": "execute_result"
    }
   ],
   "source": [
    "len(array), len(df)"
   ]
  },
  {
   "cell_type": "code",
   "execution_count": 79,
   "metadata": {},
   "outputs": [
    {
     "data": {
      "text/plain": [
       "array([['06/26/2020', 1763.27, 1765.57, ..., -1.55, -1.2300000000000182,\n",
       "        '2020-06-26'],\n",
       "       ['06/25/2020', 1760.78, 1767.74, ..., 2.77, 2.8099999999999454,\n",
       "        '2020-06-25'],\n",
       "       ['06/24/2020', 1766.89, 1778.32, ..., -6.26, -6.070000000000164,\n",
       "        '2020-06-24'],\n",
       "       ...,\n",
       "       ['06/28/2019', 1409.29, 1422.89, ..., 0.12, 0.049999999999954525,\n",
       "        '2019-06-28'],\n",
       "       ['06/27/2019', 1408.96, 1411.0, ..., 0.59, 0.2599999999999909,\n",
       "        '2019-06-27'],\n",
       "       ['06/26/2019', 1422.9, 1423.79, ..., -14.46, -14.269999999999982,\n",
       "        '2019-06-26']], dtype=object)"
      ]
     },
     "execution_count": 79,
     "metadata": {},
     "output_type": "execute_result"
    }
   ],
   "source": [
    "array"
   ]
  },
  {
   "cell_type": "code",
   "execution_count": 80,
   "metadata": {},
   "outputs": [
    {
     "data": {
      "text/html": [
       "<div>\n",
       "<style scoped>\n",
       "    .dataframe tbody tr th:only-of-type {\n",
       "        vertical-align: middle;\n",
       "    }\n",
       "\n",
       "    .dataframe tbody tr th {\n",
       "        vertical-align: top;\n",
       "    }\n",
       "\n",
       "    .dataframe thead th {\n",
       "        text-align: right;\n",
       "    }\n",
       "</style>\n",
       "<table border=\"1\" class=\"dataframe\">\n",
       "  <thead>\n",
       "    <tr style=\"text-align: right;\">\n",
       "      <th></th>\n",
       "      <th>Time</th>\n",
       "      <th>Open</th>\n",
       "      <th>High</th>\n",
       "      <th>Low</th>\n",
       "      <th>Last</th>\n",
       "      <th>Change</th>\n",
       "      <th>check</th>\n",
       "      <th>Date</th>\n",
       "    </tr>\n",
       "  </thead>\n",
       "  <tbody>\n",
       "    <tr>\n",
       "      <th>0</th>\n",
       "      <td>06/26/2019</td>\n",
       "      <td>1422.90</td>\n",
       "      <td>1423.79</td>\n",
       "      <td>1403.17</td>\n",
       "      <td>1408.63</td>\n",
       "      <td>-14.46</td>\n",
       "      <td>-14.27</td>\n",
       "      <td>2019-06-26</td>\n",
       "    </tr>\n",
       "    <tr>\n",
       "      <th>1</th>\n",
       "      <td>06/27/2019</td>\n",
       "      <td>1408.96</td>\n",
       "      <td>1411.00</td>\n",
       "      <td>1400.63</td>\n",
       "      <td>1409.22</td>\n",
       "      <td>0.59</td>\n",
       "      <td>0.26</td>\n",
       "      <td>2019-06-27</td>\n",
       "    </tr>\n",
       "    <tr>\n",
       "      <th>2</th>\n",
       "      <td>06/28/2019</td>\n",
       "      <td>1409.29</td>\n",
       "      <td>1422.89</td>\n",
       "      <td>1406.60</td>\n",
       "      <td>1409.34</td>\n",
       "      <td>0.12</td>\n",
       "      <td>0.05</td>\n",
       "      <td>2019-06-28</td>\n",
       "    </tr>\n",
       "    <tr>\n",
       "      <th>3</th>\n",
       "      <td>07/01/2019</td>\n",
       "      <td>1411.29</td>\n",
       "      <td>1414.40</td>\n",
       "      <td>1382.10</td>\n",
       "      <td>1383.58</td>\n",
       "      <td>-25.76</td>\n",
       "      <td>-27.71</td>\n",
       "      <td>2019-07-01</td>\n",
       "    </tr>\n",
       "    <tr>\n",
       "      <th>4</th>\n",
       "      <td>07/02/2019</td>\n",
       "      <td>1382.70</td>\n",
       "      <td>1420.72</td>\n",
       "      <td>1382.70</td>\n",
       "      <td>1417.96</td>\n",
       "      <td>34.38</td>\n",
       "      <td>35.26</td>\n",
       "      <td>2019-07-02</td>\n",
       "    </tr>\n",
       "    <tr>\n",
       "      <th>...</th>\n",
       "      <td>...</td>\n",
       "      <td>...</td>\n",
       "      <td>...</td>\n",
       "      <td>...</td>\n",
       "      <td>...</td>\n",
       "      <td>...</td>\n",
       "      <td>...</td>\n",
       "      <td>...</td>\n",
       "    </tr>\n",
       "    <tr>\n",
       "      <th>256</th>\n",
       "      <td>06/22/2020</td>\n",
       "      <td>1742.29</td>\n",
       "      <td>1761.96</td>\n",
       "      <td>1742.29</td>\n",
       "      <td>1754.31</td>\n",
       "      <td>12.06</td>\n",
       "      <td>12.02</td>\n",
       "      <td>2020-06-22</td>\n",
       "    </tr>\n",
       "    <tr>\n",
       "      <th>257</th>\n",
       "      <td>06/23/2020</td>\n",
       "      <td>1754.35</td>\n",
       "      <td>1770.19</td>\n",
       "      <td>1747.87</td>\n",
       "      <td>1767.08</td>\n",
       "      <td>12.77</td>\n",
       "      <td>12.73</td>\n",
       "      <td>2020-06-23</td>\n",
       "    </tr>\n",
       "    <tr>\n",
       "      <th>258</th>\n",
       "      <td>06/24/2020</td>\n",
       "      <td>1766.89</td>\n",
       "      <td>1778.32</td>\n",
       "      <td>1760.82</td>\n",
       "      <td>1760.82</td>\n",
       "      <td>-6.26</td>\n",
       "      <td>-6.07</td>\n",
       "      <td>2020-06-24</td>\n",
       "    </tr>\n",
       "    <tr>\n",
       "      <th>259</th>\n",
       "      <td>06/25/2020</td>\n",
       "      <td>1760.78</td>\n",
       "      <td>1767.74</td>\n",
       "      <td>1756.62</td>\n",
       "      <td>1763.59</td>\n",
       "      <td>2.77</td>\n",
       "      <td>2.81</td>\n",
       "      <td>2020-06-25</td>\n",
       "    </tr>\n",
       "    <tr>\n",
       "      <th>260</th>\n",
       "      <td>06/26/2020</td>\n",
       "      <td>1763.27</td>\n",
       "      <td>1765.57</td>\n",
       "      <td>1758.25</td>\n",
       "      <td>1762.04</td>\n",
       "      <td>-1.55</td>\n",
       "      <td>-1.23</td>\n",
       "      <td>2020-06-26</td>\n",
       "    </tr>\n",
       "  </tbody>\n",
       "</table>\n",
       "<p>261 rows × 8 columns</p>\n",
       "</div>"
      ],
      "text/plain": [
       "           Time     Open     High      Low     Last  Change  check        Date\n",
       "0    06/26/2019  1422.90  1423.79  1403.17  1408.63  -14.46 -14.27  2019-06-26\n",
       "1    06/27/2019  1408.96  1411.00  1400.63  1409.22    0.59   0.26  2019-06-27\n",
       "2    06/28/2019  1409.29  1422.89  1406.60  1409.34    0.12   0.05  2019-06-28\n",
       "3    07/01/2019  1411.29  1414.40  1382.10  1383.58  -25.76 -27.71  2019-07-01\n",
       "4    07/02/2019  1382.70  1420.72  1382.70  1417.96   34.38  35.26  2019-07-02\n",
       "..          ...      ...      ...      ...      ...     ...    ...         ...\n",
       "256  06/22/2020  1742.29  1761.96  1742.29  1754.31   12.06  12.02  2020-06-22\n",
       "257  06/23/2020  1754.35  1770.19  1747.87  1767.08   12.77  12.73  2020-06-23\n",
       "258  06/24/2020  1766.89  1778.32  1760.82  1760.82   -6.26  -6.07  2020-06-24\n",
       "259  06/25/2020  1760.78  1767.74  1756.62  1763.59    2.77   2.81  2020-06-25\n",
       "260  06/26/2020  1763.27  1765.57  1758.25  1762.04   -1.55  -1.23  2020-06-26\n",
       "\n",
       "[261 rows x 8 columns]"
      ]
     },
     "execution_count": 80,
     "metadata": {},
     "output_type": "execute_result"
    }
   ],
   "source": [
    "df2 = pd.DataFrame(data = new, columns = col)\n",
    "df2"
   ]
  },
  {
   "cell_type": "code",
   "execution_count": 81,
   "metadata": {},
   "outputs": [
    {
     "data": {
      "text/plain": [
       "array(['2019-06-26', '2019-06-27', '2019-06-28', '2019-07-01',\n",
       "       '2019-07-02', '2019-07-03', '2019-07-04', '2019-07-05',\n",
       "       '2019-07-08', '2019-07-09', '2019-07-10', '2019-07-11',\n",
       "       '2019-07-12', '2019-07-15', '2019-07-16', '2019-07-17',\n",
       "       '2019-07-18', '2019-07-19', '2019-07-22', '2019-07-23',\n",
       "       '2019-07-24', '2019-07-25', '2019-07-26', '2019-07-29',\n",
       "       '2019-07-30', '2019-07-31', '2019-08-01', '2019-08-02',\n",
       "       '2019-08-05', '2019-08-06', '2019-08-07', '2019-08-08',\n",
       "       '2019-08-09', '2019-08-12', '2019-08-13', '2019-08-14',\n",
       "       '2019-08-15', '2019-08-16', '2019-08-19', '2019-08-20',\n",
       "       '2019-08-21', '2019-08-22', '2019-08-23', '2019-08-26',\n",
       "       '2019-08-27', '2019-08-28', '2019-08-29', '2019-08-30',\n",
       "       '2019-09-02', '2019-09-03', '2019-09-04', '2019-09-05',\n",
       "       '2019-09-06', '2019-09-09', '2019-09-10', '2019-09-11',\n",
       "       '2019-09-12', '2019-09-13', '2019-09-16', '2019-09-17',\n",
       "       '2019-09-18', '2019-09-19', '2019-09-20', '2019-09-23',\n",
       "       '2019-09-24', '2019-09-25', '2019-09-26', '2019-09-27',\n",
       "       '2019-09-30', '2019-10-01', '2019-10-02', '2019-10-03',\n",
       "       '2019-10-04', '2019-10-07', '2019-10-08', '2019-10-09',\n",
       "       '2019-10-10', '2019-10-11', '2019-10-14', '2019-10-15',\n",
       "       '2019-10-16', '2019-10-17', '2019-10-18', '2019-10-21',\n",
       "       '2019-10-22', '2019-10-23', '2019-10-24', '2019-10-25',\n",
       "       '2019-10-28', '2019-10-29', '2019-10-30', '2019-10-31',\n",
       "       '2019-11-01', '2019-11-04', '2019-11-05', '2019-11-06',\n",
       "       '2019-11-07', '2019-11-08', '2019-11-11', '2019-11-12',\n",
       "       '2019-11-13', '2019-11-14', '2019-11-15', '2019-11-18',\n",
       "       '2019-11-19', '2019-11-20', '2019-11-21', '2019-11-22',\n",
       "       '2019-11-25', '2019-11-26', '2019-11-27', '2019-11-28',\n",
       "       '2019-11-29', '2019-12-02', '2019-12-03', '2019-12-04',\n",
       "       '2019-12-05', '2019-12-06', '2019-12-09', '2019-12-10',\n",
       "       '2019-12-11', '2019-12-12', '2019-12-13', '2019-12-16',\n",
       "       '2019-12-17', '2019-12-18', '2019-12-19', '2019-12-20',\n",
       "       '2019-12-23', '2019-12-24', '2019-12-26', '2019-12-27',\n",
       "       '2019-12-30', '2019-12-31', '2020-01-02', '2020-01-03',\n",
       "       '2020-01-06', '2020-01-07', '2020-01-08', '2020-01-09',\n",
       "       '2020-01-10', '2020-01-13', '2020-01-14', '2020-01-15',\n",
       "       '2020-01-16', '2020-01-17', '2020-01-20', '2020-01-21',\n",
       "       '2020-01-22', '2020-01-23', '2020-01-24', '2020-01-27',\n",
       "       '2020-01-28', '2020-01-29', '2020-01-30', '2020-01-31',\n",
       "       '2020-02-03', '2020-02-04', '2020-02-05', '2020-02-06',\n",
       "       '2020-02-07', '2020-02-10', '2020-02-11', '2020-02-12',\n",
       "       '2020-02-13', '2020-02-14', '2020-02-17', '2020-02-18',\n",
       "       '2020-02-19', '2020-02-20', '2020-02-21', '2020-02-24',\n",
       "       '2020-02-25', '2020-02-26', '2020-02-27', '2020-02-28',\n",
       "       '2020-03-02', '2020-03-03', '2020-03-04', '2020-03-05',\n",
       "       '2020-03-06', '2020-03-09', '2020-03-10', '2020-03-11',\n",
       "       '2020-03-12', '2020-03-13', '2020-03-16', '2020-03-17',\n",
       "       '2020-03-18', '2020-03-19', '2020-03-20', '2020-03-23',\n",
       "       '2020-03-24', '2020-03-25', '2020-03-26', '2020-03-27',\n",
       "       '2020-03-30', '2020-03-31', '2020-04-01', '2020-04-02',\n",
       "       '2020-04-03', '2020-04-06', '2020-04-07', '2020-04-08',\n",
       "       '2020-04-09', '2020-04-10', '2020-04-13', '2020-04-14',\n",
       "       '2020-04-15', '2020-04-16', '2020-04-17', '2020-04-20',\n",
       "       '2020-04-21', '2020-04-22', '2020-04-23', '2020-04-24',\n",
       "       '2020-04-27', '2020-04-28', '2020-04-29', '2020-04-30',\n",
       "       '2020-05-01', '2020-05-04', '2020-05-05', '2020-05-06',\n",
       "       '2020-05-07', '2020-05-08', '2020-05-11', '2020-05-12',\n",
       "       '2020-05-13', '2020-05-14', '2020-05-15', '2020-05-18',\n",
       "       '2020-05-19', '2020-05-20', '2020-05-21', '2020-05-22',\n",
       "       '2020-05-25', '2020-05-26', '2020-05-27', '2020-05-28',\n",
       "       '2020-05-29', '2020-06-01', '2020-06-02', '2020-06-03',\n",
       "       '2020-06-04', '2020-06-05', '2020-06-08', '2020-06-09',\n",
       "       '2020-06-10', '2020-06-11', '2020-06-12', '2020-06-15',\n",
       "       '2020-06-16', '2020-06-17', '2020-06-18', '2020-06-19',\n",
       "       '2020-06-22', '2020-06-23', '2020-06-24', '2020-06-25',\n",
       "       '2020-06-26'], dtype=object)"
      ]
     },
     "execution_count": 81,
     "metadata": {},
     "output_type": "execute_result"
    }
   ],
   "source": [
    "df2['Date'].values"
   ]
  },
  {
   "cell_type": "code",
   "execution_count": 82,
   "metadata": {},
   "outputs": [],
   "source": [
    "o = df2['Date'].values"
   ]
  },
  {
   "cell_type": "code",
   "execution_count": 83,
   "metadata": {},
   "outputs": [],
   "source": [
    "def rey(x,y):\n",
    "    pop = []\n",
    "    for i in x:\n",
    "        pop.append(y[i])\n",
    "    return np.array(pop)\n",
    "     "
   ]
  },
  {
   "cell_type": "code",
   "execution_count": 84,
   "metadata": {},
   "outputs": [],
   "source": [
    "arr = np.arange(0,260, 26)\n",
    "arr = np.append(arr,260)"
   ]
  },
  {
   "cell_type": "code",
   "execution_count": 85,
   "metadata": {},
   "outputs": [
    {
     "data": {
      "text/plain": [
       "'2019-09-12'"
      ]
     },
     "execution_count": 85,
     "metadata": {},
     "output_type": "execute_result"
    }
   ],
   "source": [
    "a=arr\n",
    "k=rey(a,o)\n",
    "o[56]"
   ]
  },
  {
   "cell_type": "code",
   "execution_count": 86,
   "metadata": {},
   "outputs": [
    {
     "data": {
      "text/plain": [
       "array(['2019-06-26', '2019-08-01', '2019-09-06', '2019-10-14',\n",
       "       '2019-11-19', '2019-12-26', '2020-02-03', '2020-03-10',\n",
       "       '2020-04-15', '2020-05-21', '2020-06-26'], dtype='<U10')"
      ]
     },
     "execution_count": 86,
     "metadata": {},
     "output_type": "execute_result"
    }
   ],
   "source": [
    "k"
   ]
  },
  {
   "cell_type": "code",
   "execution_count": 87,
   "metadata": {},
   "outputs": [
    {
     "data": {
      "image/png": "[encoded data removed]",
      "text/plain": [
       "<Figure size 720x576 with 1 Axes>"
      ]
     },
     "metadata": {
      "needs_background": "light"
     },
     "output_type": "display_data"
    }
   ],
   "source": [
    "plt.figure(figsize =(10,8))\n",
    "plt.plot(df2['Date'], df2['Last'])\n",
    "plt.xticks(arr, rey(arr,o))\n",
    "plt.xticks(rotation = 90)\n",
    "plt.show()"
   ]
  },
  {
   "cell_type": "code",
   "execution_count": 88,
   "metadata": {},
   "outputs": [],
   "source": [
    "df2.drop(['Time'],axis=1 , inplace = True)"
   ]
  },
  {
   "cell_type": "code",
   "execution_count": 89,
   "metadata": {},
   "outputs": [],
   "source": [
    "df2.drop(['check'], axis = 1 , inplace = True )"
   ]
  },
  {
   "cell_type": "code",
   "execution_count": 93,
   "metadata": {},
   "outputs": [
    {
     "data": {
      "text/html": [
       "<div>\n",
       "<style scoped>\n",
       "    .dataframe tbody tr th:only-of-type {\n",
       "        vertical-align: middle;\n",
       "    }\n",
       "\n",
       "    .dataframe tbody tr th {\n",
       "        vertical-align: top;\n",
       "    }\n",
       "\n",
       "    .dataframe thead th {\n",
       "        text-align: right;\n",
       "    }\n",
       "</style>\n",
       "<table border=\"1\" class=\"dataframe\">\n",
       "  <thead>\n",
       "    <tr style=\"text-align: right;\">\n",
       "      <th></th>\n",
       "      <th>Open</th>\n",
       "      <th>High</th>\n",
       "      <th>Low</th>\n",
       "      <th>Last</th>\n",
       "      <th>Change</th>\n",
       "      <th>Date</th>\n",
       "      <th>forecast</th>\n",
       "    </tr>\n",
       "  </thead>\n",
       "  <tbody>\n",
       "    <tr>\n",
       "      <th>0</th>\n",
       "      <td>1422.90</td>\n",
       "      <td>1423.79</td>\n",
       "      <td>1403.17</td>\n",
       "      <td>1408.63</td>\n",
       "      <td>-14.46</td>\n",
       "      <td>2019-06-26</td>\n",
       "      <td>1418.46</td>\n",
       "    </tr>\n",
       "    <tr>\n",
       "      <th>1</th>\n",
       "      <td>1408.96</td>\n",
       "      <td>1411.00</td>\n",
       "      <td>1400.63</td>\n",
       "      <td>1409.22</td>\n",
       "      <td>0.59</td>\n",
       "      <td>2019-06-27</td>\n",
       "      <td>1413.87</td>\n",
       "    </tr>\n",
       "    <tr>\n",
       "      <th>2</th>\n",
       "      <td>1409.29</td>\n",
       "      <td>1422.89</td>\n",
       "      <td>1406.60</td>\n",
       "      <td>1409.34</td>\n",
       "      <td>0.12</td>\n",
       "      <td>2019-06-28</td>\n",
       "      <td>1398.80</td>\n",
       "    </tr>\n",
       "    <tr>\n",
       "      <th>3</th>\n",
       "      <td>1411.29</td>\n",
       "      <td>1414.40</td>\n",
       "      <td>1382.10</td>\n",
       "      <td>1383.58</td>\n",
       "      <td>-25.76</td>\n",
       "      <td>2019-07-01</td>\n",
       "      <td>1395.23</td>\n",
       "    </tr>\n",
       "    <tr>\n",
       "      <th>4</th>\n",
       "      <td>1382.70</td>\n",
       "      <td>1420.72</td>\n",
       "      <td>1382.70</td>\n",
       "      <td>1417.96</td>\n",
       "      <td>34.38</td>\n",
       "      <td>2019-07-02</td>\n",
       "      <td>1397.31</td>\n",
       "    </tr>\n",
       "    <tr>\n",
       "      <th>...</th>\n",
       "      <td>...</td>\n",
       "      <td>...</td>\n",
       "      <td>...</td>\n",
       "      <td>...</td>\n",
       "      <td>...</td>\n",
       "      <td>...</td>\n",
       "      <td>...</td>\n",
       "    </tr>\n",
       "    <tr>\n",
       "      <th>256</th>\n",
       "      <td>1742.29</td>\n",
       "      <td>1761.96</td>\n",
       "      <td>1742.29</td>\n",
       "      <td>1754.31</td>\n",
       "      <td>12.06</td>\n",
       "      <td>2020-06-22</td>\n",
       "      <td>NaN</td>\n",
       "    </tr>\n",
       "    <tr>\n",
       "      <th>257</th>\n",
       "      <td>1754.35</td>\n",
       "      <td>1770.19</td>\n",
       "      <td>1747.87</td>\n",
       "      <td>1767.08</td>\n",
       "      <td>12.77</td>\n",
       "      <td>2020-06-23</td>\n",
       "      <td>NaN</td>\n",
       "    </tr>\n",
       "    <tr>\n",
       "      <th>258</th>\n",
       "      <td>1766.89</td>\n",
       "      <td>1778.32</td>\n",
       "      <td>1760.82</td>\n",
       "      <td>1760.82</td>\n",
       "      <td>-6.26</td>\n",
       "      <td>2020-06-24</td>\n",
       "      <td>NaN</td>\n",
       "    </tr>\n",
       "    <tr>\n",
       "      <th>259</th>\n",
       "      <td>1760.78</td>\n",
       "      <td>1767.74</td>\n",
       "      <td>1756.62</td>\n",
       "      <td>1763.59</td>\n",
       "      <td>2.77</td>\n",
       "      <td>2020-06-25</td>\n",
       "      <td>NaN</td>\n",
       "    </tr>\n",
       "    <tr>\n",
       "      <th>260</th>\n",
       "      <td>1763.27</td>\n",
       "      <td>1765.57</td>\n",
       "      <td>1758.25</td>\n",
       "      <td>1762.04</td>\n",
       "      <td>-1.55</td>\n",
       "      <td>2020-06-26</td>\n",
       "      <td>NaN</td>\n",
       "    </tr>\n",
       "  </tbody>\n",
       "</table>\n",
       "<p>261 rows × 7 columns</p>\n",
       "</div>"
      ],
      "text/plain": [
       "        Open     High      Low     Last  Change        Date  forecast\n",
       "0    1422.90  1423.79  1403.17  1408.63  -14.46  2019-06-26   1418.46\n",
       "1    1408.96  1411.00  1400.63  1409.22    0.59  2019-06-27   1413.87\n",
       "2    1409.29  1422.89  1406.60  1409.34    0.12  2019-06-28   1398.80\n",
       "3    1411.29  1414.40  1382.10  1383.58  -25.76  2019-07-01   1395.23\n",
       "4    1382.70  1420.72  1382.70  1417.96   34.38  2019-07-02   1397.31\n",
       "..       ...      ...      ...      ...     ...         ...       ...\n",
       "256  1742.29  1761.96  1742.29  1754.31   12.06  2020-06-22       NaN\n",
       "257  1754.35  1770.19  1747.87  1767.08   12.77  2020-06-23       NaN\n",
       "258  1766.89  1778.32  1760.82  1760.82   -6.26  2020-06-24       NaN\n",
       "259  1760.78  1767.74  1756.62  1763.59    2.77  2020-06-25       NaN\n",
       "260  1763.27  1765.57  1758.25  1762.04   -1.55  2020-06-26       NaN\n",
       "\n",
       "[261 rows x 7 columns]"
      ]
     },
     "execution_count": 93,
     "metadata": {},
     "output_type": "execute_result"
    }
   ],
   "source": [
    "df2\n",
    "df2['forecast']= df2['Last'].shift(-5)\n",
    "df2\n",
    "df_mc = df2[:-5]\n",
    "df2"
   ]
  },
  {
   "cell_type": "code",
   "execution_count": 92,
   "metadata": {},
   "outputs": [],
   "source": [
    "y = df_mc['forecast'].values\n",
    "x = df_mc[['Open','High','Low','Last']].values"
   ]
  },
  {
   "cell_type": "code",
   "execution_count": null,
   "metadata": {},
   "outputs": [],
   "source": []
  },
  {
   "cell_type": "code",
   "execution_count": null,
   "metadata": {},
   "outputs": [],
   "source": [
    "from sklearn.model_selection import train_test_split\n",
    "X_train, X_test, y_train, y_test = train_test_split(x, y, test_size=0.3 , random_state=100)"
   ]
  },
  {
   "cell_type": "code",
   "execution_count": null,
   "metadata": {},
   "outputs": [],
   "source": [
    "print(X_train)"
   ]
  },
  {
   "cell_type": "code",
   "execution_count": null,
   "metadata": {},
   "outputs": [],
   "source": []
  },
  {
   "cell_type": "code",
   "execution_count": null,
   "metadata": {},
   "outputs": [],
   "source": []
  },
  {
   "cell_type": "code",
   "execution_count": null,
   "metadata": {},
   "outputs": [],
   "source": [
    "print(X_test)"
   ]
  },
  {
   "cell_type": "code",
   "execution_count": null,
   "metadata": {},
   "outputs": [],
   "source": [
    "print(type(y_train))"
   ]
  },
  {
   "cell_type": "code",
   "execution_count": null,
   "metadata": {},
   "outputs": [],
   "source": [
    "print(type(y_test))"
   ]
  },
  {
   "cell_type": "code",
   "execution_count": null,
   "metadata": {},
   "outputs": [],
   "source": [
    "print(X_train.shape)\n",
    "print(y_train.shape)\n",
    "print(X_test.shape)\n",
    "print(y_test.shape)"
   ]
  },
  {
   "cell_type": "code",
   "execution_count": null,
   "metadata": {},
   "outputs": [],
   "source": []
  },
  {
   "cell_type": "code",
   "execution_count": null,
   "metadata": {},
   "outputs": [],
   "source": [
    "print(X_train.shape)\n",
    "print(y_train.shape)\n",
    "print(X_test.shape)\n",
    "print(y_test.shape)"
   ]
  },
  {
   "cell_type": "code",
   "execution_count": null,
   "metadata": {},
   "outputs": [],
   "source": [
    "from sklearn.linear_model import LinearRegression"
   ]
  },
  {
   "cell_type": "code",
   "execution_count": null,
   "metadata": {},
   "outputs": [],
   "source": [
    "lr = LinearRegression()\n",
    "X_train\n"
   ]
  },
  {
   "cell_type": "code",
   "execution_count": null,
   "metadata": {},
   "outputs": [],
   "source": [
    "nee = lr.fit(X_train, y_train)"
   ]
  },
  {
   "cell_type": "code",
   "execution_count": 104,
   "metadata": {},
   "outputs": [],
   "source": [
    "y_predict=lr.predict(X_test)\n"
   ]
  },
  {
   "cell_type": "code",
   "execution_count": 100,
   "metadata": {},
   "outputs": [
    {
     "data": {
      "text/html": [
       "<div>\n",
       "<style scoped>\n",
       "    .dataframe tbody tr th:only-of-type {\n",
       "        vertical-align: middle;\n",
       "    }\n",
       "\n",
       "    .dataframe tbody tr th {\n",
       "        vertical-align: top;\n",
       "    }\n",
       "\n",
       "    .dataframe thead th {\n",
       "        text-align: right;\n",
       "    }\n",
       "</style>\n",
       "<table border=\"1\" class=\"dataframe\">\n",
       "  <thead>\n",
       "    <tr style=\"text-align: right;\">\n",
       "      <th></th>\n",
       "      <th>Open</th>\n",
       "      <th>High</th>\n",
       "      <th>Low</th>\n",
       "      <th>Last</th>\n",
       "      <th>Change</th>\n",
       "      <th>Date</th>\n",
       "      <th>forecast</th>\n",
       "    </tr>\n",
       "  </thead>\n",
       "  <tbody>\n",
       "    <tr>\n",
       "      <th>256</th>\n",
       "      <td>1742.29</td>\n",
       "      <td>1761.96</td>\n",
       "      <td>1742.29</td>\n",
       "      <td>1754.31</td>\n",
       "      <td>12.06</td>\n",
       "      <td>2020-06-22</td>\n",
       "      <td>NaN</td>\n",
       "    </tr>\n",
       "    <tr>\n",
       "      <th>257</th>\n",
       "      <td>1754.35</td>\n",
       "      <td>1770.19</td>\n",
       "      <td>1747.87</td>\n",
       "      <td>1767.08</td>\n",
       "      <td>12.77</td>\n",
       "      <td>2020-06-23</td>\n",
       "      <td>NaN</td>\n",
       "    </tr>\n",
       "    <tr>\n",
       "      <th>258</th>\n",
       "      <td>1766.89</td>\n",
       "      <td>1778.32</td>\n",
       "      <td>1760.82</td>\n",
       "      <td>1760.82</td>\n",
       "      <td>-6.26</td>\n",
       "      <td>2020-06-24</td>\n",
       "      <td>NaN</td>\n",
       "    </tr>\n",
       "    <tr>\n",
       "      <th>259</th>\n",
       "      <td>1760.78</td>\n",
       "      <td>1767.74</td>\n",
       "      <td>1756.62</td>\n",
       "      <td>1763.59</td>\n",
       "      <td>2.77</td>\n",
       "      <td>2020-06-25</td>\n",
       "      <td>NaN</td>\n",
       "    </tr>\n",
       "    <tr>\n",
       "      <th>260</th>\n",
       "      <td>1763.27</td>\n",
       "      <td>1765.57</td>\n",
       "      <td>1758.25</td>\n",
       "      <td>1762.04</td>\n",
       "      <td>-1.55</td>\n",
       "      <td>2020-06-26</td>\n",
       "      <td>NaN</td>\n",
       "    </tr>\n",
       "  </tbody>\n",
       "</table>\n",
       "</div>"
      ],
      "text/plain": [
       "        Open     High      Low     Last  Change        Date  forecast\n",
       "256  1742.29  1761.96  1742.29  1754.31   12.06  2020-06-22       NaN\n",
       "257  1754.35  1770.19  1747.87  1767.08   12.77  2020-06-23       NaN\n",
       "258  1766.89  1778.32  1760.82  1760.82   -6.26  2020-06-24       NaN\n",
       "259  1760.78  1767.74  1756.62  1763.59    2.77  2020-06-25       NaN\n",
       "260  1763.27  1765.57  1758.25  1762.04   -1.55  2020-06-26       NaN"
      ]
     },
     "execution_count": 100,
     "metadata": {},
     "output_type": "execute_result"
    }
   ],
   "source": [
    "dff=df2[-5:]\n",
    "dff"
   ]
  },
  {
   "cell_type": "code",
   "execution_count": 95,
   "metadata": {},
   "outputs": [],
   "source": [
    "x_forcast=x = dff[['Open','High','Low','Last','Volume']].values\n",
    "y_forcast=lr.predict(x_forcast)"
   ]
  },
  {
   "cell_type": "code",
   "execution_count": 96,
   "metadata": {},
   "outputs": [
    {
     "data": {
      "text/plain": [
       "array([1742.8580565 , 1760.70716564, 1746.27760008, 1753.02878031,\n",
       "       1752.51327316])"
      ]
     },
     "execution_count": 96,
     "metadata": {},
     "output_type": "execute_result"
    }
   ],
   "source": [
    "y_forcast"
   ]
  },
  {
   "cell_type": "code",
   "execution_count": 97,
   "metadata": {},
   "outputs": [
    {
     "data": {
      "text/html": [
       "<div>\n",
       "<style scoped>\n",
       "    .dataframe tbody tr th:only-of-type {\n",
       "        vertical-align: middle;\n",
       "    }\n",
       "\n",
       "    .dataframe tbody tr th {\n",
       "        vertical-align: top;\n",
       "    }\n",
       "\n",
       "    .dataframe thead th {\n",
       "        text-align: right;\n",
       "    }\n",
       "</style>\n",
       "<table border=\"1\" class=\"dataframe\">\n",
       "  <thead>\n",
       "    <tr style=\"text-align: right;\">\n",
       "      <th></th>\n",
       "      <th>Open</th>\n",
       "      <th>High</th>\n",
       "      <th>Low</th>\n",
       "      <th>Last</th>\n",
       "      <th>Change</th>\n",
       "      <th>Date</th>\n",
       "      <th>forecast</th>\n",
       "    </tr>\n",
       "  </thead>\n",
       "  <tbody>\n",
       "    <tr>\n",
       "      <th>251</th>\n",
       "      <td>1729.49</td>\n",
       "      <td>1733.53</td>\n",
       "      <td>1705.53</td>\n",
       "      <td>1724.64</td>\n",
       "      <td>-4.83</td>\n",
       "      <td>2020-06-15</td>\n",
       "      <td>1754.31</td>\n",
       "    </tr>\n",
       "    <tr>\n",
       "      <th>252</th>\n",
       "      <td>1724.59</td>\n",
       "      <td>1731.92</td>\n",
       "      <td>1708.37</td>\n",
       "      <td>1726.46</td>\n",
       "      <td>1.82</td>\n",
       "      <td>2020-06-16</td>\n",
       "      <td>1767.08</td>\n",
       "    </tr>\n",
       "    <tr>\n",
       "      <th>253</th>\n",
       "      <td>1726.34</td>\n",
       "      <td>1728.57</td>\n",
       "      <td>1713.58</td>\n",
       "      <td>1726.11</td>\n",
       "      <td>-0.35</td>\n",
       "      <td>2020-06-17</td>\n",
       "      <td>1760.82</td>\n",
       "    </tr>\n",
       "    <tr>\n",
       "      <th>254</th>\n",
       "      <td>1725.77</td>\n",
       "      <td>1734.88</td>\n",
       "      <td>1717.60</td>\n",
       "      <td>1721.97</td>\n",
       "      <td>-4.14</td>\n",
       "      <td>2020-06-18</td>\n",
       "      <td>1763.59</td>\n",
       "    </tr>\n",
       "    <tr>\n",
       "      <th>255</th>\n",
       "      <td>1721.87</td>\n",
       "      <td>1743.79</td>\n",
       "      <td>1721.33</td>\n",
       "      <td>1742.25</td>\n",
       "      <td>20.28</td>\n",
       "      <td>2020-06-19</td>\n",
       "      <td>1762.04</td>\n",
       "    </tr>\n",
       "    <tr>\n",
       "      <th>256</th>\n",
       "      <td>1742.29</td>\n",
       "      <td>1761.96</td>\n",
       "      <td>1742.29</td>\n",
       "      <td>1754.31</td>\n",
       "      <td>12.06</td>\n",
       "      <td>2020-06-22</td>\n",
       "      <td>NaN</td>\n",
       "    </tr>\n",
       "    <tr>\n",
       "      <th>257</th>\n",
       "      <td>1754.35</td>\n",
       "      <td>1770.19</td>\n",
       "      <td>1747.87</td>\n",
       "      <td>1767.08</td>\n",
       "      <td>12.77</td>\n",
       "      <td>2020-06-23</td>\n",
       "      <td>NaN</td>\n",
       "    </tr>\n",
       "    <tr>\n",
       "      <th>258</th>\n",
       "      <td>1766.89</td>\n",
       "      <td>1778.32</td>\n",
       "      <td>1760.82</td>\n",
       "      <td>1760.82</td>\n",
       "      <td>-6.26</td>\n",
       "      <td>2020-06-24</td>\n",
       "      <td>NaN</td>\n",
       "    </tr>\n",
       "    <tr>\n",
       "      <th>259</th>\n",
       "      <td>1760.78</td>\n",
       "      <td>1767.74</td>\n",
       "      <td>1756.62</td>\n",
       "      <td>1763.59</td>\n",
       "      <td>2.77</td>\n",
       "      <td>2020-06-25</td>\n",
       "      <td>NaN</td>\n",
       "    </tr>\n",
       "    <tr>\n",
       "      <th>260</th>\n",
       "      <td>1763.27</td>\n",
       "      <td>1765.57</td>\n",
       "      <td>1758.25</td>\n",
       "      <td>1762.04</td>\n",
       "      <td>-1.55</td>\n",
       "      <td>2020-06-26</td>\n",
       "      <td>NaN</td>\n",
       "    </tr>\n",
       "  </tbody>\n",
       "</table>\n",
       "</div>"
      ],
      "text/plain": [
       "        Open     High      Low     Last  Change        Date  forecast\n",
       "251  1729.49  1733.53  1705.53  1724.64   -4.83  2020-06-15   1754.31\n",
       "252  1724.59  1731.92  1708.37  1726.46    1.82  2020-06-16   1767.08\n",
       "253  1726.34  1728.57  1713.58  1726.11   -0.35  2020-06-17   1760.82\n",
       "254  1725.77  1734.88  1717.60  1721.97   -4.14  2020-06-18   1763.59\n",
       "255  1721.87  1743.79  1721.33  1742.25   20.28  2020-06-19   1762.04\n",
       "256  1742.29  1761.96  1742.29  1754.31   12.06  2020-06-22       NaN\n",
       "257  1754.35  1770.19  1747.87  1767.08   12.77  2020-06-23       NaN\n",
       "258  1766.89  1778.32  1760.82  1760.82   -6.26  2020-06-24       NaN\n",
       "259  1760.78  1767.74  1756.62  1763.59    2.77  2020-06-25       NaN\n",
       "260  1763.27  1765.57  1758.25  1762.04   -1.55  2020-06-26       NaN"
      ]
     },
     "execution_count": 97,
     "metadata": {},
     "output_type": "execute_result"
    }
   ],
   "source": [
    "df2.tail(10)"
   ]
  },
  {
   "cell_type": "code",
   "execution_count": 98,
   "metadata": {},
   "outputs": [
    {
     "data": {
      "text/plain": [
       "Text(0, 0.5, 'Gold price')"
      ]
     },
     "execution_count": 98,
     "metadata": {},
     "output_type": "execute_result"
    },
    {
     "data": {
      "image/png": "[encoded data removed]",
      "text/plain": [
       "<Figure size 432x288 with 1 Axes>"
      ]
     },
     "metadata": {
      "needs_background": "light"
     },
     "output_type": "display_data"
    }
   ],
   "source": [
    "c = [i for i in range(1,78,1)]  \n",
    "fig = plt.figure()\n",
    "plt.plot(c,y_test, color=\"blue\", linewidth=2.5, linestyle=\"-\")\n",
    "plt.plot(c,y_predict, color=\"red\",  linewidth=2.5, linestyle=\"-\")\n",
    "fig.suptitle('Actual and Predicted', fontsize=20)              # Plot heading \n",
    "plt.xlabel('Index', fontsize=18)                               # X-label\n",
    "plt.ylabel('Gold price', fontsize=16)                       # Y-label"
   ]
  },
  {
   "cell_type": "code",
   "execution_count": null,
   "metadata": {},
   "outputs": [],
   "source": [
    "next_dates = ['2020-06-27', '2020-06-28','2020-06-29','2020-06-30','2020-07-01']"
   ]
  },
  {
   "cell_type": "code",
   "execution_count": 99,
   "metadata": {},
   "outputs": [
    {
     "data": {
      "image/png": "[encoded data removed]",
      "text/plain": [
       "<Figure size 720x576 with 1 Axes>"
      ]
     },
     "metadata": {
      "needs_background": "light"
     },
     "output_type": "display_data"
    }
   ],
   "source": [
    "plt.figure(figsize =(10,8))\n",
    "plt.plot(df2['Date'], df2['Last'])\n",
    "plt.xticks(arr, rey(arr,o))\n",
    "plt.xticks(rotation = 90)\n",
    "plt.plot(next_dates, y_forcast)\n",
    "plt.xticks(rotation = 90)\n",
    "plt.show()"
   ]
  },
  {
   "cell_type": "code",
   "execution_count": null,
   "metadata": {},
   "outputs": [],
   "source": [
    "\n"
   ]
  },
  {
   "cell_type": "code",
   "execution_count": null,
   "metadata": {},
   "outputs": [],
   "source": []
  },
  {
   "cell_type": "code",
   "execution_count": null,
   "metadata": {},
   "outputs": [],
   "source": []
  },
  {
   "cell_type": "code",
   "execution_count": null,
   "metadata": {},
   "outputs": [],
   "source": []
  },
  {
   "cell_type": "code",
   "execution_count": null,
   "metadata": {},
   "outputs": [],
   "source": []
  },
  {
   "cell_type": "code",
   "execution_count": 106,
   "metadata": {},
   "outputs": [
    {
     "data": {
      "text/plain": [
       "Text(0, 0.5, 'Predicted Y')"
      ]
     },
     "execution_count": 106,
     "metadata": {},
     "output_type": "execute_result"
    },
    {
     "data": {
      "image/png": "[encoded data removed]",
      "text/plain": [
       "<Figure size 432x288 with 1 Axes>"
      ]
     },
     "metadata": {
      "needs_background": "light"
     },
     "output_type": "display_data"
    }
   ],
   "source": [
    "import matplotlib.pyplot as plt\n",
    "plt.scatter(y_test,y_predict)\n",
    "plt.xlabel('Y Test')\n",
    "plt.ylabel('Predicted Y')"
   ]
  },
  {
   "cell_type": "code",
   "execution_count": 107,
   "metadata": {},
   "outputs": [
    {
     "name": "stdout",
     "output_type": "stream",
     "text": [
      "MAE :   24.08460826272088\n",
      "MSE :   991.1327481991931\n",
      "RMAE :   31.48226084955134\n"
     ]
    }
   ],
   "source": [
    "from sklearn import metrics\n",
    "print('MAE :',\" \", metrics.mean_absolute_error(y_test,y_predict))\n",
    "print('MSE :',\" \", metrics.mean_squared_error(y_test,y_predict))\n",
    "print('RMAE :',\" \", np.sqrt(metrics.mean_squared_error(y_test,y_predict)))"
   ]
  },
  {
   "cell_type": "code",
   "execution_count": null,
   "metadata": {},
   "outputs": [],
   "source": []
  }
 ],
 "metadata": {
  "kernelspec": {
   "display_name": "Python 3",
   "language": "python",
   "name": "python3"
  },
  "language_info": {
   "codemirror_mode": {
    "name": "ipython",
    "version": 3
   },
   "file_extension": ".py",
   "mimetype": "text/x-python",
   "name": "python",
   "nbconvert_exporter": "python",
   "pygments_lexer": "ipython3",
   "version": "3.7.7"
  }
 },
 "nbformat": 4,
 "nbformat_minor": 4
}
